{
  "nbformat": 4,
  "nbformat_minor": 0,
  "metadata": {
    "colab": {
      "name": "Baseline_Model_2.ipynb",
      "provenance": [],
      "private_outputs": true,
      "collapsed_sections": [],
      "toc_visible": true,
      "include_colab_link": true
    },
    "kernelspec": {
      "display_name": "Python 3",
      "language": "python",
      "name": "python3"
    },
    "language_info": {
      "codemirror_mode": {
        "name": "ipython",
        "version": 3
      },
      "file_extension": ".py",
      "mimetype": "text/x-python",
      "name": "python",
      "nbconvert_exporter": "python",
      "pygments_lexer": "ipython3",
      "version": "3.7.6"
    }
  },
  "cells": [
    {
      "cell_type": "markdown",
      "metadata": {
        "id": "view-in-github",
        "colab_type": "text"
      },
      "source": [
        "<a href=\"https://colab.research.google.com/github/avani-bajaj/AI-PacMan-Project/blob/master/Baseline_Model_2.ipynb\" target=\"_parent\"><img src=\"https://colab.research.google.com/assets/colab-badge.svg\" alt=\"Open In Colab\"/></a>"
      ]
    },
    {
      "cell_type": "code",
      "metadata": {
        "colab_type": "code",
        "id": "IqGaZvyWjBJI",
        "colab": {}
      },
      "source": [
        "\n",
        "import pandas as pd\n",
        "#import keras\n",
        "#from keras.preprocessing import text, sequence\n",
        "#from keras import layers, models, optimizers\n",
        "import pandas as pd, numpy as np, re,nltk, seaborn as sns\n",
        "import matplotlib.pyplot as plt\n",
        "#import plotly,plotly as py \n",
        "#import cufflinks as cf\n",
        "import matplotlib\n",
        "from sklearn.feature_extraction.text import TfidfVectorizer, CountVectorizer\n",
        "import os\n",
        "from textblob import Word\n",
        "#from keras.preprocessing import text, sequence\n",
        "import pickle\n",
        "## model building \n",
        "import pandas as pd\n",
        "from sklearn.preprocessing import MinMaxScaler\n",
        "from sklearn.model_selection import train_test_split\n",
        "from sklearn.metrics import classification_report, confusion_matrix\n",
        "from sklearn.ensemble import GradientBoostingClassifier\n",
        "import numpy as np\n",
        "from sklearn.model_selection import train_test_split"
      ],
      "execution_count": 0,
      "outputs": []
    },
    {
      "cell_type": "code",
      "metadata": {
        "colab_type": "code",
        "id": "AIkxYLeOkmNW",
        "colab": {}
      },
      "source": [
        "## Geetting fiel from drive\n",
        "# Code to read csv file into Colaboratory:\n",
        "!pip install -U -q PyDrive\n",
        "from pydrive.auth import GoogleAuth\n",
        "from pydrive.drive import GoogleDrive\n",
        "from google.colab import auth\n",
        "from oauth2client.client import GoogleCredentials\n",
        "# Authenticate and create the PyDrive client.\n",
        "auth.authenticate_user()\n",
        "gauth = GoogleAuth()\n",
        "gauth.credentials = GoogleCredentials.get_application_default()\n",
        "drive = GoogleDrive(gauth)\n",
        "\n",
        "link = 'https://drive.google.com/open?id=1ElMukuLHXLny4A6Q-21jPNY6u8l8y4X2' # The shareable link\n",
        "fluff, id = link.split('=')\n",
        "print (id) # Verify that you have everything after '='\n",
        "\n",
        "\n",
        "downloaded = drive.CreateFile({'id':id}) \n",
        "downloaded.GetContentFile('WarrantyClaims.vwWcPall.cleaned.csv')  \n",
        "wcpalltest = pd.read_csv('WarrantyClaims.vwWcPall.cleaned.csv',sep = ',',error_bad_lines=False,encoding = 'utf8',low_memory=False)\n",
        "# Dataset is now stored in a Pandas Dataframe\n",
        "\n",
        "link = 'https://drive.google.com/open?id=1rp6Nr1b_Fj3GaO1NgYUt-4KXTk3UFTIe' # The shareable link\n",
        "fluff, id = link.split('=')\n",
        "print (id) # Verify that you have everything after '='\n",
        "\n",
        "\n",
        "downloaded = drive.CreateFile({'id':id}) \n",
        "downloaded.GetContentFile('WarrantyClaim.ClaimDisposition.csv')  \n",
        "dcpst = pd.read_csv('WarrantyClaim.ClaimDisposition.csv',low_memory=False)\n",
        "# Dataset is now stored in a Pandas Dataframe\n",
        "\n",
        "\n",
        "link = 'https://drive.google.com/open?id=17xH-xGLWIMBedk2Vk6_DKFpFA09hcZZB' # The shareable link\n",
        "fluff, id = link.split('=')\n",
        "print (id) # Verify that you have everything after '='\n",
        "\n",
        "\n",
        "downloaded = drive.CreateFile({'id':id}) \n",
        "downloaded.GetContentFile('20190426_FM_List_From_Backup.xlsx')  \n",
        "failuremode = pd.read_excel('20190426_FM_List_From_Backup.xlsx')\n",
        "# Dataset is now stored in a Pandas Dataframe\n",
        "\n",
        "\n"
      ],
      "execution_count": 0,
      "outputs": []
    },
    {
      "cell_type": "code",
      "metadata": {
        "ExecuteTime": {
          "end_time": "2020-04-06T07:26:32.149617Z",
          "start_time": "2020-04-06T07:26:32.056305Z"
        },
        "colab_type": "code",
        "id": "IzITVDSnd8_J",
        "colab": {}
      },
      "source": [
        "## final file with cluster details \n",
        "finalfile = pd.read_csv(\"./finalfile_cluster.csv\",low_memory=False)\n",
        "\n",
        "finalfile = trainDF.copy()"
      ],
      "execution_count": 0,
      "outputs": []
    },
    {
      "cell_type": "markdown",
      "metadata": {
        "id": "U4YhDL7enxuk",
        "colab_type": "text"
      },
      "source": [
        "Model Building Starts\n",
        "Input file - FInal File \n"
      ]
    },
    {
      "cell_type": "code",
      "metadata": {
        "id": "nzLCbly1wQ0y",
        "colab_type": "code",
        "colab": {}
      },
      "source": [
        "import os\n",
        "## GPU \n",
        "os.environ[\"CUDA_VISIBLE_DEVICES\"] = \"1\""
      ],
      "execution_count": 0,
      "outputs": []
    },
    {
      "cell_type": "code",
      "metadata": {
        "id": "EpIU3musD9HE",
        "colab_type": "code",
        "colab": {}
      },
      "source": [
        ""
      ],
      "execution_count": 0,
      "outputs": []
    },
    {
      "cell_type": "markdown",
      "metadata": {
        "id": "NJqb0wwgn3mH",
        "colab_type": "text"
      },
      "source": [
        "Using Glove Vector as data \n"
      ]
    },
    {
      "cell_type": "code",
      "metadata": {
        "id": "Ksv_YfyTEDD_",
        "colab_type": "code",
        "colab": {}
      },
      "source": [
        "import pickle\n",
        "\n",
        "\n",
        "f = open('glove_vector_1.pckl', 'rb')\n",
        "glove_vector_1 = pickle.load(f)\n",
        "f.close()"
      ],
      "execution_count": 0,
      "outputs": []
    },
    {
      "cell_type": "code",
      "metadata": {
        "id": "cM84hgkfwQ01",
        "colab_type": "code",
        "colab": {}
      },
      "source": [
        "glove_vector_1.shape"
      ],
      "execution_count": 0,
      "outputs": []
    },
    {
      "cell_type": "markdown",
      "metadata": {
        "id": "YfSeJhxdn7ZV",
        "colab_type": "text"
      },
      "source": [
        "Split into training and testing"
      ]
    },
    {
      "cell_type": "code",
      "metadata": {
        "ExecuteTime": {
          "end_time": "2020-04-06T07:26:32.557945Z",
          "start_time": "2020-04-06T07:26:32.150615Z"
        },
        "colab_type": "code",
        "id": "tlsDHJugd8_L",
        "colab": {}
      },
      "source": [
        "## Train test split \n",
        "state = 12  \n",
        "test_size = 0.20  ## 80-20 split\n",
        "X_train, X_test_, y_train, y_test_ = train_test_split( glove_vector_1, finalfile['cluster'], test_size=test_size, random_state=state)\n",
        "train = pd.concat([X_train.reset_index(drop=True), y_train], axis=1)\n",
        "test = pd.concat([X_test_.reset_index(drop=True), y_test_], axis=1)"
      ],
      "execution_count": 0,
      "outputs": []
    },
    {
      "cell_type": "code",
      "metadata": {
        "id": "oTGJn-mFwQ1B",
        "colab_type": "code",
        "colab": {}
      },
      "source": [
        "X_train.shape"
      ],
      "execution_count": 0,
      "outputs": []
    },
    {
      "cell_type": "code",
      "metadata": {
        "id": "en1EbVRVdlDj",
        "colab_type": "code",
        "colab": {}
      },
      "source": [
        "from sklearn.metrics import roc_curve\n",
        "from sklearn.metrics import roc_auc_score\n",
        "def plot_roc_curve(fpr, tpr):\n",
        "    plt.plot(fpr, tpr, color='orange', label='ROC')\n",
        "    plt.plot([0, 1], [0, 1], color='darkblue', linestyle='--')\n",
        "    plt.xlabel('False Positive Rate')\n",
        "    plt.ylabel('True Positive Rate')\n",
        "    plt.title('Receiver Operating Characteristic (ROC) Curve')\n",
        "    plt.legend()\n",
        "    plt.show()"
      ],
      "execution_count": 0,
      "outputs": []
    },
    {
      "cell_type": "code",
      "metadata": {
        "id": "zdvze9GqbE47",
        "colab_type": "code",
        "colab": {}
      },
      "source": [
        "# Function to plot learning curves\n",
        "def lc(model):\n",
        "    H = model.history.history\n",
        "    fig = plt.figure(figsize = (19, 6))\n",
        "    plt.subplot(121)\n",
        "    plt.plot(H['accuracy'], label = 'acc')\n",
        "    \n",
        "    try:\n",
        "        plt.plot(H['val_accuracy'], label = 'val_acc')\n",
        "    except:\n",
        "        pass\n",
        "    \n",
        "    plt.grid(); plt.legend()\n",
        "    \n",
        "    plt.subplot(122)\n",
        "    plt.plot(H['loss'], label = 'loss')\n",
        "    \n",
        "    try:\n",
        "        plt.plot(H['val_loss'], label = 'val_loss')\n",
        "    except:\n",
        "        pass\n",
        "    \n",
        "    plt.grid(); plt.legend()\n",
        "    plt.show()"
      ],
      "execution_count": 0,
      "outputs": []
    },
    {
      "cell_type": "code",
      "metadata": {
        "ExecuteTime": {
          "end_time": "2020-04-06T07:26:33.055597Z",
          "start_time": "2020-04-06T07:26:32.558943Z"
        },
        "colab_type": "code",
        "id": "kbQekKa0d8_O",
        "colab": {}
      },
      "source": [
        "## Traininf and validation set \n",
        "##X_train, X_val, y_train, y_val = train_test_split(X_train, y_train, test_size=test_size, random_state=state)\n",
        "\n",
        "## Using k-fold cros validation\n",
        "from sklearn.model_selection import KFold\n",
        "kf = KFold(n_splits= 5)\n",
        "\n",
        "for train_index, test_index in kf.split(X_train,y_train):\n",
        "    ## Split data\n",
        "    X_train, X_test = X[train_index], X[test_index]\n",
        "    y_train, y_test = y[train_index], y[test_index]\n",
        "    ## training the model \n",
        "    ## using SVM \n",
        "    model = \n",
        "    probs = model.predict_proba(testX)\n",
        "    ## keep prob of positive class \n",
        "    probs = probs[:, 1]\n",
        "    ## Plotting ROC_AUC curve\n",
        "    auc = roc_auc_score(testy, probs)\n",
        "    print('AUC: %.2f' % auc)\n",
        "    fpr, tpr, thresholds = metrics.roc_curve(y, pred, pos_label=2)\n",
        "    plot_roc_curve(fpr, tpr)\n",
        "    ## Plot accuracy curve \n",
        "    lc(model)\n",
        "\n",
        "\n"
      ],
      "execution_count": 0,
      "outputs": []
    },
    {
      "cell_type": "code",
      "metadata": {
        "id": "SlNP53NliI-h",
        "colab_type": "code",
        "colab": {}
      },
      "source": [
        "from sklearn.datasets import make_blobs\n",
        "from sklearn.model_selection import RepeatedStratifiedKFold\n",
        "from sklearn.model_selection import GridSearchCV\n",
        "from sklearn.ensemble import SVC\n",
        "## hyperparameter tuning for supporrt vector machine model \n",
        "\n",
        "# define model and parameters\n",
        "model = SVC()\n",
        "kernel = ['poly', 'rbf', 'sigmoid']\n",
        "C = [50, 10, 1.0, 0.1, 0.01]\n",
        "gamma = ['scale']\n",
        "# define grid search\n",
        "grid = dict(kernel=kernel,C=C,gamma=gamma)\n",
        "cv = RepeatedStratifiedKFold(n_splits=10, n_repeats=3, random_state=1)\n",
        "grid_search = GridSearchCV(estimator=model, param_grid=grid, n_jobs=-1, cv=cv, scoring='accuracy',error_score=0)\n",
        "grid_result = grid_search.fit(X, y)\n",
        "# summarize results\n",
        "print(\"Best: %f using %s\" % (grid_result.best_score_, grid_result.best_params_))\n",
        "means = grid_result.cv_results_['mean_test_score']\n",
        "stds = grid_result.cv_results_['std_test_score']\n",
        "params = grid_result.cv_results_['params']\n",
        "for mean, stdev, param in zip(means, stds, params):\n",
        "    print(\"%f (%f) with: %r\" % (mean, stdev, param))"
      ],
      "execution_count": 0,
      "outputs": []
    },
    {
      "cell_type": "code",
      "metadata": {
        "id": "T0UsYAWQcThV",
        "colab_type": "code",
        "colab": {}
      },
      "source": [
        "## hyperparameter tuning the model \n",
        "penalty = ['l2']\n",
        "c_values = [100, 10, 1.0, 0.1, 0.01]\n",
        "# define grid search\n",
        "grid = dict(solver=solvers,penalty=penalty,C=c_values)\n",
        "cv = RepeatedStratifiedKFold(n_splits=5, n_repeats=3, random_state=1)\n",
        "grid_search = GridSearchCV(estimator=model, param_grid=grid, n_jobs=-1, cv=cv, scoring='accuracy',error_score=0)\n",
        "grid_result = grid_search.fit(X, y)\n",
        "# summarize results\n",
        "print(\"Best: %f using %s\" % (grid_result.best_score_, grid_result.best_params_))\n",
        "means = grid_result.cv_results_['mean_test_score']\n",
        "stds = grid_result.cv_results_['std_test_score']\n",
        "params = grid_result.cv_results_['params']\n",
        "for mean, stdev, param in zip(means, stds, params):\n",
        "    print(\"%f (%f) with: %r\" % (mean, stdev, param))\n"
      ],
      "execution_count": 0,
      "outputs": []
    },
    {
      "cell_type": "code",
      "metadata": {
        "ExecuteTime": {
          "end_time": "2020-04-06T07:26:33.078728Z",
          "start_time": "2020-04-06T07:26:33.056595Z"
        },
        "colab_type": "code",
        "id": "V8sUVfecd8_T",
        "colab": {}
      },
      "source": [
        "## hyperparameter tuning  for Gradient Boosting\n",
        "lr_list = [0.05, 0.075, 0.1, 0.25, 0.5, 0.75, 1]\n",
        "feature_list = [2,7,10,30]\n",
        "depth_list = [2,7,10,15]\n",
        "for learning_rate in lr_list:\n",
        "    for max_features in feature_list:\n",
        "        for max_depth in depth_list:\n",
        "\n",
        "            gb_clf = GradientBoostingClassifier(n_estimators=20, learning_rate=learning_rate, max_features=max_features, max_depth=max_depth, random_state=0)\n",
        "            gb_clf.fit(X_train, y_train)\n",
        "\n",
        "            print(\"Learning rate: \", learning_rate, \", max_features: \", max_features, \", max_depth: \", max_depth)\n",
        "            print(\"Accuracy score (training): {0:.3f}\".format(gb_clf.score(X_train, y_train)))\n",
        "            print(\"Accuracy score (validation): {0:.3f}\".format(gb_clf.score(X_val, y_val)))"
      ],
      "execution_count": 0,
      "outputs": []
    },
    {
      "cell_type": "code",
      "metadata": {
        "id": "xpW0wNWlwQ1O",
        "colab_type": "code",
        "colab": {}
      },
      "source": [
        "y_train.dtypes"
      ],
      "execution_count": 0,
      "outputs": []
    },
    {
      "cell_type": "code",
      "metadata": {
        "ExecuteTime": {
          "end_time": "2020-04-06T07:26:33.083715Z",
          "start_time": "2020-04-06T07:26:33.079726Z"
        },
        "colab_type": "code",
        "id": "evv4jBvZd8_X",
        "colab": {}
      },
      "source": [
        "## Final selected model result \n",
        "gb_clf2 = GradientBoostingClassifier(n_estimators= 20, learning_rate= 0.75 , max_features= 7, max_depth= 5, random_state=0)\n",
        "gb_clf2.fit(X_train, y_train)\n",
        "predictions = gb_clf2.predict(X_test)\n",
        "\n",
        "print(\"Confusion Matrix:\")\n",
        "print(confusion_matrix(y_test, predictions))\n",
        "\n",
        "print(\"Classification Report\")\n",
        "print(classification_report(y_test, predictions))\n"
      ],
      "execution_count": 0,
      "outputs": []
    },
    {
      "cell_type": "code",
      "metadata": {
        "colab_type": "code",
        "id": "hS1Gw_J2d9Aw",
        "colab": {}
      },
      "source": [
        ""
      ],
      "execution_count": 0,
      "outputs": []
    },
    {
      "cell_type": "code",
      "metadata": {
        "colab_type": "code",
        "id": "CHlE9GN0jITT",
        "colab": {}
      },
      "source": [
        ""
      ],
      "execution_count": 0,
      "outputs": []
    },
    {
      "cell_type": "code",
      "metadata": {
        "colab_type": "code",
        "id": "WIiY-GByjIY7",
        "colab": {}
      },
      "source": [
        ""
      ],
      "execution_count": 0,
      "outputs": []
    },
    {
      "cell_type": "code",
      "metadata": {
        "colab_type": "code",
        "id": "UU6ZU2tDjIem",
        "colab": {}
      },
      "source": [
        ""
      ],
      "execution_count": 0,
      "outputs": []
    },
    {
      "cell_type": "code",
      "metadata": {
        "colab_type": "code",
        "id": "Yyng-Xu3jIp0",
        "colab": {}
      },
      "source": [
        ""
      ],
      "execution_count": 0,
      "outputs": []
    },
    {
      "cell_type": "code",
      "metadata": {
        "colab_type": "code",
        "id": "B72vmMzYjIvV",
        "colab": {}
      },
      "source": [
        ""
      ],
      "execution_count": 0,
      "outputs": []
    },
    {
      "cell_type": "code",
      "metadata": {
        "colab_type": "code",
        "id": "UIYdHcoQjJDZ",
        "colab": {}
      },
      "source": [
        ""
      ],
      "execution_count": 0,
      "outputs": []
    },
    {
      "cell_type": "code",
      "metadata": {
        "colab_type": "code",
        "id": "wQXxv6yqjJM1",
        "colab": {}
      },
      "source": [
        ""
      ],
      "execution_count": 0,
      "outputs": []
    },
    {
      "cell_type": "code",
      "metadata": {
        "colab_type": "code",
        "id": "KA8i6X3gjJhH",
        "colab": {}
      },
      "source": [
        ""
      ],
      "execution_count": 0,
      "outputs": []
    },
    {
      "cell_type": "code",
      "metadata": {
        "colab_type": "code",
        "id": "tSMg6eZojJle",
        "colab": {}
      },
      "source": [
        ""
      ],
      "execution_count": 0,
      "outputs": []
    },
    {
      "cell_type": "code",
      "metadata": {
        "colab_type": "code",
        "id": "fn1tLe2jjJee",
        "colab": {}
      },
      "source": [
        ""
      ],
      "execution_count": 0,
      "outputs": []
    },
    {
      "cell_type": "code",
      "metadata": {
        "colab_type": "code",
        "id": "QYwRvw07jJbs",
        "colab": {}
      },
      "source": [
        ""
      ],
      "execution_count": 0,
      "outputs": []
    },
    {
      "cell_type": "code",
      "metadata": {
        "colab_type": "code",
        "id": "vZ6VyExujJYY",
        "colab": {}
      },
      "source": [
        ""
      ],
      "execution_count": 0,
      "outputs": []
    },
    {
      "cell_type": "code",
      "metadata": {
        "colab_type": "code",
        "id": "P-5d0-iHjJVb",
        "colab": {}
      },
      "source": [
        ""
      ],
      "execution_count": 0,
      "outputs": []
    },
    {
      "cell_type": "code",
      "metadata": {
        "colab_type": "code",
        "id": "kXzt7-7zjJSl",
        "colab": {}
      },
      "source": [
        ""
      ],
      "execution_count": 0,
      "outputs": []
    },
    {
      "cell_type": "code",
      "metadata": {
        "colab_type": "code",
        "id": "dIxMV1gQjJQE",
        "colab": {}
      },
      "source": [
        ""
      ],
      "execution_count": 0,
      "outputs": []
    },
    {
      "cell_type": "code",
      "metadata": {
        "colab_type": "code",
        "id": "7WBcHDwSjJK_",
        "colab": {}
      },
      "source": [
        ""
      ],
      "execution_count": 0,
      "outputs": []
    },
    {
      "cell_type": "code",
      "metadata": {
        "colab_type": "code",
        "id": "UJOn0gTUjJHY",
        "colab": {}
      },
      "source": [
        ""
      ],
      "execution_count": 0,
      "outputs": []
    },
    {
      "cell_type": "code",
      "metadata": {
        "colab_type": "code",
        "id": "VoeIE3lIjJAT",
        "colab": {}
      },
      "source": [
        ""
      ],
      "execution_count": 0,
      "outputs": []
    },
    {
      "cell_type": "code",
      "metadata": {
        "colab_type": "code",
        "id": "MEMCcZERjI9k",
        "colab": {}
      },
      "source": [
        ""
      ],
      "execution_count": 0,
      "outputs": []
    },
    {
      "cell_type": "code",
      "metadata": {
        "colab_type": "code",
        "id": "J4nH3kgtjI7n",
        "colab": {}
      },
      "source": [
        ""
      ],
      "execution_count": 0,
      "outputs": []
    },
    {
      "cell_type": "code",
      "metadata": {
        "colab_type": "code",
        "id": "cu_rOkl-jI5X",
        "colab": {}
      },
      "source": [
        ""
      ],
      "execution_count": 0,
      "outputs": []
    },
    {
      "cell_type": "code",
      "metadata": {
        "colab_type": "code",
        "id": "WZjXoqqfjI2o",
        "colab": {}
      },
      "source": [
        ""
      ],
      "execution_count": 0,
      "outputs": []
    },
    {
      "cell_type": "code",
      "metadata": {
        "colab_type": "code",
        "id": "mLwl5hoLjIy7",
        "colab": {}
      },
      "source": [
        ""
      ],
      "execution_count": 0,
      "outputs": []
    },
    {
      "cell_type": "code",
      "metadata": {
        "colab_type": "code",
        "id": "iHWySUOTjItN",
        "colab": {}
      },
      "source": [
        ""
      ],
      "execution_count": 0,
      "outputs": []
    },
    {
      "cell_type": "code",
      "metadata": {
        "colab_type": "code",
        "id": "0rLlETJpjImt",
        "colab": {}
      },
      "source": [
        ""
      ],
      "execution_count": 0,
      "outputs": []
    },
    {
      "cell_type": "code",
      "metadata": {
        "colab_type": "code",
        "id": "5R4tjW7fjIkR",
        "colab": {}
      },
      "source": [
        ""
      ],
      "execution_count": 0,
      "outputs": []
    },
    {
      "cell_type": "code",
      "metadata": {
        "colab_type": "code",
        "id": "EAkQ-WkJjIha",
        "colab": {}
      },
      "source": [
        ""
      ],
      "execution_count": 0,
      "outputs": []
    },
    {
      "cell_type": "code",
      "metadata": {
        "colab_type": "code",
        "id": "yTElUptZjIcd",
        "colab": {}
      },
      "source": [
        ""
      ],
      "execution_count": 0,
      "outputs": []
    },
    {
      "cell_type": "code",
      "metadata": {
        "colab_type": "code",
        "id": "1Yaii0H6jIWG",
        "colab": {}
      },
      "source": [
        ""
      ],
      "execution_count": 0,
      "outputs": []
    },
    {
      "cell_type": "code",
      "metadata": {
        "colab_type": "code",
        "id": "AeeEFQd6jIQv",
        "colab": {}
      },
      "source": [
        ""
      ],
      "execution_count": 0,
      "outputs": []
    },
    {
      "cell_type": "code",
      "metadata": {
        "colab_type": "code",
        "id": "t9waOxpKjIK-",
        "colab": {}
      },
      "source": [
        ""
      ],
      "execution_count": 0,
      "outputs": []
    }
  ]
}